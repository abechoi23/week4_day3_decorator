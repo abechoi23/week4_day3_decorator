{
 "cells": [
  {
   "cell_type": "markdown",
   "metadata": {},
   "source": [
    "# LinkedLists"
   ]
  },
  {
   "cell_type": "code",
   "execution_count": 88,
   "metadata": {},
   "outputs": [
    {
     "name": "stdout",
     "output_type": "stream",
     "text": [
      "10 -> None\n",
      "20 -> 10 -> None\n",
      "20 -> 30 -> 10 -> None\n",
      "20 -> 30 -> 10 -> 40 -> None\n",
      "20 -> 30 -> 50 -> 10 -> 40 -> None\n",
      "30 -> 50 -> 10 -> 40 -> None\n",
      "False\n",
      "True\n"
     ]
    }
   ],
   "source": [
    "class Node:\n",
    "    def __init__(self, value, next_node=None):\n",
    "        self.value = value\n",
    "        self.next_node = next_node\n",
    "        \n",
    "class LinkedList:\n",
    "    def __init__(self, head=None):\n",
    "        self.head = head\n",
    "        \n",
    "    def insert_before(self, value, target_value=None):\n",
    "        \"\"\"\n",
    "        Insert a new node with the provided value before the node\n",
    "        with the same value as target_value.\n",
    "        If there is not target_value, insert the new node to\n",
    "        the front of the list. \n",
    "        \"\"\"\n",
    "        new_node = Node(value)\n",
    "        # Check if there is not a target_value\n",
    "        if not target_value:\n",
    "            \n",
    "        #If there's not a target value, check if there is a head node\n",
    "                \n",
    "            if self.head:\n",
    "            #If there is a head, set the next_node property\n",
    "            #Of our new node, so that we do not break our chain\n",
    "            #when we update the head to be our new_node\n",
    "                new_node.next_node = self.head\n",
    "                \n",
    "            #Update the head to be my new node    \n",
    "            self.head = new_node\n",
    "\n",
    "          #If there is a target value, find the node with that target value\n",
    "        else:\n",
    "            current_node = self.head\n",
    "            prev_node = None\n",
    "\n",
    "            #Loop through all of our nodes\n",
    "            while current_node:\n",
    "\n",
    "                #Check if current_node's value == the target value\n",
    "                if current_node.value == target_value:\n",
    "                    #Set the previous node's next_node attribute to the new node\n",
    "                    prev_node.next_node = new_node\n",
    "                    #set the new node's next_node attribute to the current_node\n",
    "                    new_node.next_node = current_node\n",
    "                    \n",
    "                    break\n",
    "                    \n",
    "                prev_node = current_node\n",
    "                current_node = current_node.next_node\n",
    "        \n",
    "        \n",
    "    def remove(self,value):\n",
    "        \"\"\"\n",
    "        Iterate through all of the nodes, until you find the node that has the value you're looking for. Once you find the node you're looking for set the next_node attribute for the previous node, to the node you found's next_node attribute. Effectively removing the node from the chain, as there is no longer any reference to the node.\n",
    "        \"\"\"\n",
    "\n",
    "        current_node = self.head\n",
    "        prev_node = None\n",
    "\n",
    "        while current_node:\n",
    "            if current_node.value == value:\n",
    "                # If there is not a previous node, set the head to the current_node's next_node\n",
    "                if not prev_node:\n",
    "                    self.head = current_node.next_node\n",
    "\n",
    "                else:\n",
    "                    prev_node.next_node = current_node.next_node\n",
    "\n",
    "                break\n",
    "\n",
    "            prev_node = current_node\n",
    "            current_node = current_node.next_node\n",
    "\n",
    "        return False\n",
    "    \n",
    "    def insert_after(self,value,target_value=None):\n",
    "        \"\"\"\n",
    "        Insert a new node with the provided value before the node\n",
    "        with the same value as target_value.\n",
    "        If there is not target_value, insert the new node to\n",
    "        the front of the list. \n",
    "        \"\"\"\n",
    "        new_node = Node(value)\n",
    "        \n",
    "        # Check if there is not a target_value\n",
    "        if not target_value:\n",
    "            \n",
    "            #If there's not a target value, check if there is a head node\n",
    "            if self.head:\n",
    "                #If there is a head, loop through your nodes to find the tail\n",
    "                current_node = self.head\n",
    "                \n",
    "                #Stop once next_node is none, because then\n",
    "                #current node is our tail.\n",
    "                while current_node.next_node:\n",
    "                    current_node = current_node.next_node\n",
    "                    \n",
    "                current_node.next_node = new_node\n",
    "                \n",
    "            else: \n",
    "                #Update the head to be my new node    \n",
    "                self.head = new_node\n",
    "\n",
    "        #If there is a target value, find the node with that target value\n",
    "        else:\n",
    "            current_node = self.head\n",
    "\n",
    "\n",
    "            #Loop through all of our nodes\n",
    "            while current_node:\n",
    "\n",
    "                #Check if current_node's value == the target value\n",
    "                if current_node.value == target_value:\n",
    "                    \n",
    "                    #Set the new_node's next node, to the current node's next node, to insert\n",
    "                    #The new node before the next node\n",
    "                    new_node.next_node = current_node.next_node\n",
    "                    \n",
    "                    #Set current_node's next node, to my new node, to insert it after the current_node\n",
    "                    current_node.next_node = new_node\n",
    "                    \n",
    "                    break\n",
    "                    \n",
    "                current_node = current_node.next_node\n",
    "    \n",
    "    def contains(self,value):\n",
    "        \"\"\"\n",
    "        Checks if a node with the provided value exists in my list.\n",
    "        If it does, return true, if it doesn't return false.\n",
    "        \"\"\"\n",
    "        current_node = self.head\n",
    "\n",
    "        while current_node:\n",
    "            if current_node.value == value:\n",
    "                return True\n",
    "            \n",
    "            current_node = current_node.next_node\n",
    "\n",
    "        return False\n",
    "\n",
    "    \n",
    "    def print_nodes(self):\n",
    "        current_node = self.head\n",
    "        \n",
    "        #loop through each current node, until there are no more nodes\n",
    "        #and print out the current node's value\n",
    "        \n",
    "        while current_node:\n",
    "            print(current_node.value, end=' -> ')\n",
    "            \n",
    "            current_node = current_node.next_node\n",
    "            \n",
    "        print('None')\n",
    "\n",
    "my_list = LinkedList()\n",
    "my_list.insert_before(10)\n",
    "my_list.print_nodes()\n",
    "# print(my_list.head.value)\n",
    "my_list.insert_before(20)\n",
    "my_list.print_nodes()\n",
    "my_list.insert_before(30, 10)\n",
    "my_list.print_nodes()\n",
    "my_list.insert_after(40)\n",
    "my_list.print_nodes()\n",
    "my_list.insert_after(50, 30)\n",
    "my_list.print_nodes()\n",
    "\n",
    "my_list.remove(20)\n",
    "my_list.print_nodes()\n",
    "\n",
    "print(my_list.contains(60))\n",
    "print(my_list.contains(10))\n",
    "# print('HELLO')\n",
    "\n",
    "# while True:\n",
    "#     user_input = input('Would you like to add or remove? ')\n",
    "\n",
    "#     if user_input == 'add':\n",
    "#         item_to_add = input('What do you want to add? ')\n",
    "#         my_list.insert_before(item_to_add)\n",
    "#     elif user_input == 'remove':\n",
    "#         item_to_remove = input('What would you like to remove? ')\n",
    "#         my_list.remove(item_to_remove)\n",
    "    \n",
    "#     my_list.print_nodes()"
   ]
  },
  {
   "cell_type": "markdown",
   "metadata": {},
   "source": [
    "# Decorators"
   ]
  },
  {
   "cell_type": "markdown",
   "metadata": {},
   "source": [
    "# Nested Functions"
   ]
  },
  {
   "cell_type": "code",
   "execution_count": 23,
   "metadata": {},
   "outputs": [],
   "source": [
    "def make_adder(x):\n",
    "    def inner(y):\n",
    "        return x + y\n",
    "    \n",
    "    return inner"
   ]
  },
  {
   "cell_type": "code",
   "execution_count": 25,
   "metadata": {},
   "outputs": [],
   "source": [
    "# Classic way\n",
    "def add_10(y):\n",
    "    return y + 10\n",
    "\n",
    "def add_20(y):\n",
    "    return y + 20"
   ]
  },
  {
   "cell_type": "code",
   "execution_count": 32,
   "metadata": {},
   "outputs": [
    {
     "name": "stdout",
     "output_type": "stream",
     "text": [
      "35\n",
      "45\n"
     ]
    }
   ],
   "source": [
    "# Nested function way\n",
    "add_10 = make_adder(10)\n",
    "add_20 = make_adder(20)\n",
    "\n",
    "print(add_10(25))\n",
    "print(add_20(25))"
   ]
  },
  {
   "cell_type": "code",
   "execution_count": 33,
   "metadata": {},
   "outputs": [
    {
     "data": {
      "text/plain": [
       "0"
      ]
     },
     "execution_count": 33,
     "metadata": {},
     "output_type": "execute_result"
    }
   ],
   "source": [
    "add_10(-10)"
   ]
  },
  {
   "cell_type": "code",
   "execution_count": 35,
   "metadata": {},
   "outputs": [],
   "source": [
    "def plus(x): return lambda y: y + x\n",
    "def minus(x): return lambda y: y - x\n",
    "def multiply(x): return lambda y: y * x\n",
    "def divide(x): return lambda y: y // x"
   ]
  },
  {
   "cell_type": "code",
   "execution_count": 37,
   "metadata": {},
   "outputs": [],
   "source": [
    "def make_multiplier(x):\n",
    "    def inner(y):\n",
    "        return y*x\n",
    "    return inner\n",
    "\n",
    "double_nums = make_multiplier(2)\n",
    "triple_nums = make_multiplier(3)"
   ]
  },
  {
   "cell_type": "code",
   "execution_count": 39,
   "metadata": {},
   "outputs": [
    {
     "data": {
      "text/plain": [
       "27"
      ]
     },
     "execution_count": 39,
     "metadata": {},
     "output_type": "execute_result"
    }
   ],
   "source": [
    "triple_nums(9)"
   ]
  },
  {
   "cell_type": "code",
   "execution_count": 49,
   "metadata": {},
   "outputs": [],
   "source": [
    "@decorate_print\n",
    "def print_hello():\n",
    "    print('Hello World!')\n",
    "    \n",
    "@decorate_print\n",
    "def print_welcome():\n",
    "    print('Welcome to the application.')"
   ]
  },
  {
   "cell_type": "code",
   "execution_count": 43,
   "metadata": {},
   "outputs": [],
   "source": [
    "def decorate_print(func):\n",
    "    def inner():\n",
    "        print(\"================\")\n",
    "        func()\n",
    "        print(\"================\")\n",
    "        \n",
    "    return inner"
   ]
  },
  {
   "cell_type": "code",
   "execution_count": 50,
   "metadata": {},
   "outputs": [
    {
     "name": "stdout",
     "output_type": "stream",
     "text": [
      "================\n",
      "Hello World!\n",
      "================\n"
     ]
    }
   ],
   "source": [
    "print_hello()"
   ]
  },
  {
   "cell_type": "code",
   "execution_count": 52,
   "metadata": {},
   "outputs": [
    {
     "name": "stdout",
     "output_type": "stream",
     "text": [
      "================\n",
      "Welcome to the application.\n",
      "================\n"
     ]
    }
   ],
   "source": [
    "print_welcome()"
   ]
  },
  {
   "cell_type": "code",
   "execution_count": 83,
   "metadata": {},
   "outputs": [],
   "source": [
    "routes = {}\n",
    "\n",
    "def router(path):\n",
    "    def inner(func):\n",
    "        routes[path] = func\n",
    "    \n",
    "    return inner\n",
    "        \n",
    "@router('/')    \n",
    "def home():\n",
    "    print('Home Page')\n",
    "\n",
    "@router('/About')    \n",
    "def about():\n",
    "    print('About')\n",
    "\n",
    "@router('/Contact')    \n",
    "def contact():\n",
    "    print('Contact')\n",
    "\n",
    "@router('/Blog')    \n",
    "def blog():\n",
    "    print('Blog')\n",
    "    \n",
    "@router('/Email')    \n",
    "def email():\n",
    "    print('Email')\n",
    "    \n",
    "@router('/FAQ')    \n",
    "def faq():\n",
    "    print('FAQ')\n",
    "    \n",
    "@router('/Privacy Policy')    \n",
    "def privacy_policy():\n",
    "    print('Privacy Policy')\n",
    "\n",
    "    \n",
    "def request(path):\n",
    "    if path in routes:\n",
    "        routes[path]()\n",
    "    else:\n",
    "        print('404 not found')\n",
    "\n"
   ]
  },
  {
   "cell_type": "code",
   "execution_count": 69,
   "metadata": {},
   "outputs": [
    {
     "data": {
      "text/plain": [
       "{'/': <function __main__.home()>,\n",
       " '/About': <function __main__.about()>,\n",
       " '/Contact': <function __main__.contact()>,\n",
       " '/Blog': <function __main__.blog()>,\n",
       " '/Email': <function __main__.email()>,\n",
       " '/FAQ': <function __main__.faq()>,\n",
       " '/Privacy Policy': <function __main__.privacy_policy()>}"
      ]
     },
     "execution_count": 69,
     "metadata": {},
     "output_type": "execute_result"
    }
   ],
   "source": [
    "routes"
   ]
  },
  {
   "cell_type": "code",
   "execution_count": 86,
   "metadata": {},
   "outputs": [
    {
     "name": "stdout",
     "output_type": "stream",
     "text": [
      "Privacy Policy\n",
      "FAQ\n",
      "Email\n",
      "404 not found\n"
     ]
    }
   ],
   "source": [
    "request('/Privacy Policy')\n",
    "request('/FAQ')\n",
    "request('/Email')\n",
    "request('/test')"
   ]
  },
  {
   "cell_type": "code",
   "execution_count": 77,
   "metadata": {},
   "outputs": [
    {
     "name": "stdout",
     "output_type": "stream",
     "text": [
      "Blog\n"
     ]
    }
   ],
   "source": [
    "request('/Blog') # Have this run our blog function"
   ]
  },
  {
   "cell_type": "code",
   "execution_count": 78,
   "metadata": {},
   "outputs": [
    {
     "name": "stdout",
     "output_type": "stream",
     "text": [
      "About\n"
     ]
    }
   ],
   "source": [
    "request('/About') # Have this run our about function"
   ]
  },
  {
   "cell_type": "markdown",
   "metadata": {},
   "source": [
    "# Memoization"
   ]
  },
  {
   "cell_type": "code",
   "execution_count": 105,
   "metadata": {},
   "outputs": [
    {
     "data": {
      "text/plain": [
       "89"
      ]
     },
     "execution_count": 105,
     "metadata": {},
     "output_type": "execute_result"
    }
   ],
   "source": [
    "fib_result = {}\n",
    "\n",
    "def fib(n):\n",
    "    # Base case\n",
    "    if n <= 1:\n",
    "        return 1\n",
    "    return fib(n-1) + fib(n-2)\n",
    "\n",
    "fib(10)"
   ]
  },
  {
   "cell_type": "code",
   "execution_count": 107,
   "metadata": {},
   "outputs": [
    {
     "name": "stdout",
     "output_type": "stream",
     "text": [
      "573147844013817084101\n"
     ]
    }
   ],
   "source": [
    "fib_results = {}\n",
    "\n",
    "number_of_runs = 0\n",
    "def fib(n):\n",
    "    if n in fib_results:\n",
    "        return fib_results[n]\n",
    "    \n",
    "    # Base case\n",
    "    if n <= 1:\n",
    "        return 1\n",
    "    \n",
    "    result = fib(n-1) + fib(n-2)\n",
    "    fib_results[n] = result\n",
    "    return result\n",
    "\n",
    "print(fib(100))"
   ]
  },
  {
   "cell_type": "code",
   "execution_count": 109,
   "metadata": {},
   "outputs": [
    {
     "name": "stdout",
     "output_type": "stream",
     "text": [
      "89\n",
      "19\n"
     ]
    }
   ],
   "source": [
    "fib_results = {}\n",
    "\n",
    "number_of_runs = 0\n",
    "def fib(n):\n",
    "    global number_of_runs\n",
    "    number_of_runs +=1 \n",
    "    \n",
    "    if n in fib_results:\n",
    "        return fib_results[n]\n",
    "    \n",
    "    # Base case\n",
    "    if n <= 1:\n",
    "        return 1\n",
    "    \n",
    "    result = fib(n-1) + fib(n-2)\n",
    "    fib_results[n] = result\n",
    "    return result\n",
    "\n",
    "print(fib(10))\n",
    "print(number_of_runs)"
   ]
  },
  {
   "cell_type": "code",
   "execution_count": 110,
   "metadata": {},
   "outputs": [
    {
     "data": {
      "text/plain": [
       "{2: 2, 3: 3, 4: 5, 5: 8, 6: 13, 7: 21, 8: 34, 9: 55, 10: 89}"
      ]
     },
     "execution_count": 110,
     "metadata": {},
     "output_type": "execute_result"
    }
   ],
   "source": [
    "fib_results"
   ]
  },
  {
   "cell_type": "code",
   "execution_count": 113,
   "metadata": {},
   "outputs": [
    {
     "data": {
      "text/plain": [
       "70330367711422815821835254877183549770181269836358732742604905087154537118196933579742249494562611733487750449241765991088186363265450223647106012053374121273867339111198139373125598767690091902245245323403501"
      ]
     },
     "execution_count": 113,
     "metadata": {},
     "output_type": "execute_result"
    }
   ],
   "source": [
    "from functools import lru_cache\n",
    "\n",
    "\n",
    "@lru_cache(maxsize=256)\n",
    "def fib(n):\n",
    "    # Base case\n",
    "    if n <= 1:\n",
    "        return 1\n",
    "    return fib(n-1) + fib(n-2)\n",
    "\n",
    "fib(1000)"
   ]
  },
  {
   "cell_type": "code",
   "execution_count": 118,
   "metadata": {},
   "outputs": [
    {
     "name": "stdout",
     "output_type": "stream",
     "text": [
      "1\n",
      "1\n",
      "2\n",
      "3\n",
      "3\n",
      "4\n",
      "5\n",
      "5\n",
      "5\n",
      "6\n",
      "9\n",
      "<__main__.Node object at 0x000001669A4600A0>\n"
     ]
    }
   ],
   "source": [
    "class Node:\n",
    "    def __init__(self, data):\n",
    "        self.data = data\n",
    "        self.next = None\n",
    "\n",
    "def list_to_linked_list(lst):\n",
    "    head = Node(lst[0])\n",
    "    current = head\n",
    "    for i in range(1, len(lst)):\n",
    "        current.next = Node(lst[i])\n",
    "        current = current.next\n",
    "    return head\n",
    "\n",
    "def merge_sort_decorator(func):\n",
    "    def wrapper(lst):\n",
    "        sorted_lst = sorted(lst)\n",
    "        return func(sorted_lst)\n",
    "    return wrapper\n",
    "\n",
    "@merge_sort_decorator\n",
    "def list_to_linked_list(lst):\n",
    "    head = Node(lst[0])\n",
    "    current = head\n",
    "    for i in range(1, len(lst)):\n",
    "        current.next = Node(lst[i])\n",
    "        current = current.next\n",
    "    return head\n",
    "\n",
    "current = my_linked_list\n",
    "while current is not None:\n",
    "    print(current.data)\n",
    "    current = current.next\n",
    "\n",
    "my_list = [3, 1, 4, 1, 5, 9, 2, 6, 5, 3, 5]\n",
    "my_linked_list = list_to_linked_list(my_list)\n",
    "print(my_linked_list)\n"
   ]
  }
 ],
 "metadata": {
  "kernelspec": {
   "display_name": "Python 3 (ipykernel)",
   "language": "python",
   "name": "python3"
  },
  "language_info": {
   "codemirror_mode": {
    "name": "ipython",
    "version": 3
   },
   "file_extension": ".py",
   "mimetype": "text/x-python",
   "name": "python",
   "nbconvert_exporter": "python",
   "pygments_lexer": "ipython3",
   "version": "3.9.13"
  }
 },
 "nbformat": 4,
 "nbformat_minor": 2
}
